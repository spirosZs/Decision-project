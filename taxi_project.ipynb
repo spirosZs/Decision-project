{
 "cells": [
  {
   "cell_type": "code",
   "execution_count": 86,
   "id": "b80786a8",
   "metadata": {},
   "outputs": [],
   "source": [
    "import pandas as pd\n",
    "import numpy as np\n",
    "from sklearn import linear_model\n",
    "\n",
    "df=pd.read_csv('train.csv')"
   ]
  },
  {
   "cell_type": "code",
   "execution_count": 87,
   "id": "61f5630c",
   "metadata": {},
   "outputs": [],
   "source": [
    "df= df.drop(['id','vendor_id','passenger_count','store_and_fwd_flag'],axis=1)"
   ]
  },
  {
   "cell_type": "code",
   "execution_count": 88,
   "id": "2ddfd3f5",
   "metadata": {},
   "outputs": [
    {
     "name": "stderr",
     "output_type": "stream",
     "text": [
      "<ipython-input-88-2f428af2d894>:1: FutureWarning: The default value of regex will change from True to False in a future version.\n",
      "  df['pickup_datetime'] = df['pickup_datetime'].str.replace('\\D', '').astype(np.int64)\n",
      "<ipython-input-88-2f428af2d894>:2: FutureWarning: The default value of regex will change from True to False in a future version.\n",
      "  df['dropoff_datetime'] = df['dropoff_datetime'].str.replace('\\D', '').astype(np.int64)\n"
     ]
    }
   ],
   "source": [
    "df['pickup_datetime'] = df['pickup_datetime'].str.replace('\\D', '').astype(np.int64)\n",
    "df['dropoff_datetime'] = df['dropoff_datetime'].str.replace('\\D', '').astype(np.int64)\n"
   ]
  },
  {
   "cell_type": "code",
   "execution_count": 89,
   "id": "6db3acfe",
   "metadata": {},
   "outputs": [
    {
     "data": {
      "text/html": [
       "<div>\n",
       "<style scoped>\n",
       "    .dataframe tbody tr th:only-of-type {\n",
       "        vertical-align: middle;\n",
       "    }\n",
       "\n",
       "    .dataframe tbody tr th {\n",
       "        vertical-align: top;\n",
       "    }\n",
       "\n",
       "    .dataframe thead th {\n",
       "        text-align: right;\n",
       "    }\n",
       "</style>\n",
       "<table border=\"1\" class=\"dataframe\">\n",
       "  <thead>\n",
       "    <tr style=\"text-align: right;\">\n",
       "      <th></th>\n",
       "      <th>pickup_datetime</th>\n",
       "      <th>dropoff_datetime</th>\n",
       "      <th>pickup_longitude</th>\n",
       "      <th>pickup_latitude</th>\n",
       "      <th>dropoff_longitude</th>\n",
       "      <th>dropoff_latitude</th>\n",
       "      <th>trip_duration</th>\n",
       "    </tr>\n",
       "  </thead>\n",
       "  <tbody>\n",
       "    <tr>\n",
       "      <th>0</th>\n",
       "      <td>20160314172455</td>\n",
       "      <td>20160314173230</td>\n",
       "      <td>-73.982155</td>\n",
       "      <td>40.767937</td>\n",
       "      <td>-73.964630</td>\n",
       "      <td>40.765602</td>\n",
       "      <td>455</td>\n",
       "    </tr>\n",
       "    <tr>\n",
       "      <th>1</th>\n",
       "      <td>20160612004335</td>\n",
       "      <td>20160612005438</td>\n",
       "      <td>-73.980415</td>\n",
       "      <td>40.738564</td>\n",
       "      <td>-73.999481</td>\n",
       "      <td>40.731152</td>\n",
       "      <td>663</td>\n",
       "    </tr>\n",
       "    <tr>\n",
       "      <th>2</th>\n",
       "      <td>20160119113524</td>\n",
       "      <td>20160119121048</td>\n",
       "      <td>-73.979027</td>\n",
       "      <td>40.763939</td>\n",
       "      <td>-74.005333</td>\n",
       "      <td>40.710087</td>\n",
       "      <td>2124</td>\n",
       "    </tr>\n",
       "    <tr>\n",
       "      <th>3</th>\n",
       "      <td>20160406193231</td>\n",
       "      <td>20160406193940</td>\n",
       "      <td>-74.010040</td>\n",
       "      <td>40.719971</td>\n",
       "      <td>-74.012268</td>\n",
       "      <td>40.706718</td>\n",
       "      <td>429</td>\n",
       "    </tr>\n",
       "    <tr>\n",
       "      <th>4</th>\n",
       "      <td>20160326133055</td>\n",
       "      <td>20160326133810</td>\n",
       "      <td>-73.973053</td>\n",
       "      <td>40.793209</td>\n",
       "      <td>-73.972923</td>\n",
       "      <td>40.782520</td>\n",
       "      <td>435</td>\n",
       "    </tr>\n",
       "    <tr>\n",
       "      <th>...</th>\n",
       "      <td>...</td>\n",
       "      <td>...</td>\n",
       "      <td>...</td>\n",
       "      <td>...</td>\n",
       "      <td>...</td>\n",
       "      <td>...</td>\n",
       "      <td>...</td>\n",
       "    </tr>\n",
       "    <tr>\n",
       "      <th>1458639</th>\n",
       "      <td>20160408133104</td>\n",
       "      <td>20160408134402</td>\n",
       "      <td>-73.982201</td>\n",
       "      <td>40.745522</td>\n",
       "      <td>-73.994911</td>\n",
       "      <td>40.740170</td>\n",
       "      <td>778</td>\n",
       "    </tr>\n",
       "    <tr>\n",
       "      <th>1458640</th>\n",
       "      <td>20160110073515</td>\n",
       "      <td>20160110074610</td>\n",
       "      <td>-74.000946</td>\n",
       "      <td>40.747379</td>\n",
       "      <td>-73.970184</td>\n",
       "      <td>40.796547</td>\n",
       "      <td>655</td>\n",
       "    </tr>\n",
       "    <tr>\n",
       "      <th>1458641</th>\n",
       "      <td>20160422065741</td>\n",
       "      <td>20160422071025</td>\n",
       "      <td>-73.959129</td>\n",
       "      <td>40.768799</td>\n",
       "      <td>-74.004433</td>\n",
       "      <td>40.707371</td>\n",
       "      <td>764</td>\n",
       "    </tr>\n",
       "    <tr>\n",
       "      <th>1458642</th>\n",
       "      <td>20160105155626</td>\n",
       "      <td>20160105160239</td>\n",
       "      <td>-73.982079</td>\n",
       "      <td>40.749062</td>\n",
       "      <td>-73.974632</td>\n",
       "      <td>40.757107</td>\n",
       "      <td>373</td>\n",
       "    </tr>\n",
       "    <tr>\n",
       "      <th>1458643</th>\n",
       "      <td>20160405144425</td>\n",
       "      <td>20160405144743</td>\n",
       "      <td>-73.979538</td>\n",
       "      <td>40.781750</td>\n",
       "      <td>-73.972809</td>\n",
       "      <td>40.790585</td>\n",
       "      <td>198</td>\n",
       "    </tr>\n",
       "  </tbody>\n",
       "</table>\n",
       "<p>1458644 rows × 7 columns</p>\n",
       "</div>"
      ],
      "text/plain": [
       "         pickup_datetime  dropoff_datetime  pickup_longitude  pickup_latitude  \\\n",
       "0         20160314172455    20160314173230        -73.982155        40.767937   \n",
       "1         20160612004335    20160612005438        -73.980415        40.738564   \n",
       "2         20160119113524    20160119121048        -73.979027        40.763939   \n",
       "3         20160406193231    20160406193940        -74.010040        40.719971   \n",
       "4         20160326133055    20160326133810        -73.973053        40.793209   \n",
       "...                  ...               ...               ...              ...   \n",
       "1458639   20160408133104    20160408134402        -73.982201        40.745522   \n",
       "1458640   20160110073515    20160110074610        -74.000946        40.747379   \n",
       "1458641   20160422065741    20160422071025        -73.959129        40.768799   \n",
       "1458642   20160105155626    20160105160239        -73.982079        40.749062   \n",
       "1458643   20160405144425    20160405144743        -73.979538        40.781750   \n",
       "\n",
       "         dropoff_longitude  dropoff_latitude  trip_duration  \n",
       "0               -73.964630         40.765602            455  \n",
       "1               -73.999481         40.731152            663  \n",
       "2               -74.005333         40.710087           2124  \n",
       "3               -74.012268         40.706718            429  \n",
       "4               -73.972923         40.782520            435  \n",
       "...                    ...               ...            ...  \n",
       "1458639         -73.994911         40.740170            778  \n",
       "1458640         -73.970184         40.796547            655  \n",
       "1458641         -74.004433         40.707371            764  \n",
       "1458642         -73.974632         40.757107            373  \n",
       "1458643         -73.972809         40.790585            198  \n",
       "\n",
       "[1458644 rows x 7 columns]"
      ]
     },
     "execution_count": 89,
     "metadata": {},
     "output_type": "execute_result"
    }
   ],
   "source": [
    "df"
   ]
  },
  {
   "cell_type": "code",
   "execution_count": 90,
   "id": "99135226",
   "metadata": {},
   "outputs": [],
   "source": [
    "#spliting datatsheet\n",
    "X_train=df[['pickup_datetime','pickup_longitude', 'pickup_latitude']]\n",
    "y_train=df[['dropoff_datetime','dropoff_longitude','dropoff_latitude','trip_duration']]\n",
    "\n"
   ]
  },
  {
   "cell_type": "code",
   "execution_count": 91,
   "id": "7112507b",
   "metadata": {},
   "outputs": [
    {
     "data": {
      "text/plain": [
       "LinearRegression()"
      ]
     },
     "execution_count": 91,
     "metadata": {},
     "output_type": "execute_result"
    }
   ],
   "source": [
    "# Create linear regression object\n",
    "regr = linear_model.LinearRegression()\n",
    "# Train the model using the training sets\n",
    "regr.fit(X_train,y_train)"
   ]
  },
  {
   "cell_type": "code",
   "execution_count": 117,
   "id": "749d1025",
   "metadata": {},
   "outputs": [
    {
     "name": "stderr",
     "output_type": "stream",
     "text": [
      "<ipython-input-117-29a0df4ad76f>:4: FutureWarning: The default value of regex will change from True to False in a future version.\n",
      "  df_test['pickup_datetime'] = df_test['pickup_datetime'].str.replace('\\D', '').astype(np.int64)\n"
     ]
    }
   ],
   "source": [
    "#importing test file\n",
    "df_test=pd.read_csv('test.csv')\n",
    "df_test= df_test.drop(['id','vendor_id','passenger_count','store_and_fwd_flag'],axis=1)\n",
    "df_test['pickup_datetime'] = df_test['pickup_datetime'].str.replace('\\D', '').astype(np.int64)\n",
    "#df_test['dropoff_datetime'] = df_test['dropoff_datetime'].str.replace('\\D', '').astype(np.int64)\n",
    "\n",
    "X_test=df_test[['pickup_datetime','pickup_longitude', 'pickup_latitude']]\n",
    "\n",
    "# Make predictions using the testing set\n",
    "y_pred = regr.predict(X_test)"
   ]
  },
  {
   "cell_type": "code",
   "execution_count": 118,
   "id": "226db927",
   "metadata": {},
   "outputs": [
    {
     "name": "stdout",
     "output_type": "stream",
     "text": [
      "[2.01606303e+13 2.01606303e+13 2.01606303e+13 ... 8.65897661e+02\n",
      " 9.82269763e+02 1.05072893e+03]\n"
     ]
    }
   ],
   "source": [
    "y_pred_1=y_pred[:,0].astype(np.int64)\n",
    "y_pred_2=y_pred[:,1].astype( np. float64)\n",
    "y_pred_3=y_pred[:,2].astype( np. float64)\n",
    "y_pred_4=y_pred[:,3].astype( np. float64)\n",
    "y_pred=np.concatenate((y_pred_1,y_pred_2,y_pred_3,y_pred_4))\n",
    "\n",
    "print(y_pred)\n",
    "#y_pred"
   ]
  },
  {
   "cell_type": "code",
   "execution_count": 53,
   "id": "e0f5b7b2",
   "metadata": {},
   "outputs": [
    {
     "data": {
      "text/plain": [
       "array([20160630289765,            -73,             40], dtype=int64)"
      ]
     },
     "execution_count": 53,
     "metadata": {},
     "output_type": "execute_result"
    }
   ],
   "source": []
  },
  {
   "cell_type": "code",
   "execution_count": null,
   "id": "224559e2",
   "metadata": {},
   "outputs": [],
   "source": []
  }
 ],
 "metadata": {
  "kernelspec": {
   "display_name": "Python 3",
   "language": "python",
   "name": "python3"
  },
  "language_info": {
   "codemirror_mode": {
    "name": "ipython",
    "version": 3
   },
   "file_extension": ".py",
   "mimetype": "text/x-python",
   "name": "python",
   "nbconvert_exporter": "python",
   "pygments_lexer": "ipython3",
   "version": "3.9.5"
  }
 },
 "nbformat": 4,
 "nbformat_minor": 5
}
